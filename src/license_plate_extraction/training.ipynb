{
 "cells": [
  {
   "cell_type": "code",
   "execution_count": null,
   "metadata": {},
   "outputs": [],
   "source": [
    "%load_ext tensorboard"
   ]
  },
  {
   "cell_type": "markdown",
   "metadata": {},
   "source": [
    "Check if running in colab, if yes then clone the git repository and navigate into the correct directory"
   ]
  },
  {
   "cell_type": "code",
   "execution_count": null,
   "metadata": {},
   "outputs": [],
   "source": [
    "# This checks if\n",
    "# (a) the code is running in google colab\n",
    "# (b) the repository hasn't been cloned yet\n",
    "import sys\n",
    "from pathlib import Path\n",
    "if \"google.colab\" in sys.modules and not Path.cwd().name == \"license_plate_extraction\":\n",
    "    !git clone https://github.com/cxan96/license_plate_detection\n",
    "    %cd license_plate_detection\n",
    "    !git submodule init\n",
    "    !git submodule update\n",
    "    %cd src/license_plate_extraction"
   ]
  },
  {
   "cell_type": "code",
   "execution_count": null,
   "metadata": {},
   "outputs": [],
   "source": [
    "import tensorflow as tf\n",
    "from tensorflow.keras import losses\n",
    "import numpy as np\n",
    "from data_reader import get_image_paths_from_directory, make_dataset_from_image_paths\n",
    "from preprocessing import bounding_box_in_pixel\n",
    "from visualization_tools import show_image\n",
    "import settings\n",
    "import models\n",
    "import datetime"
   ]
  },
  {
   "cell_type": "code",
   "execution_count": null,
   "metadata": {},
   "outputs": [],
   "source": [
    "tf.test.gpu_device_name()"
   ]
  },
  {
   "cell_type": "markdown",
   "metadata": {},
   "source": [
    "Read all the available images into a list of paths:"
   ]
  },
  {
   "cell_type": "code",
   "execution_count": null,
   "metadata": {},
   "outputs": [],
   "source": [
    "image_directory_eu = settings.DATA_DIR / \"eu_cars+lps\"\n",
    "image_directory_br = settings.DATA_DIR / \"br_cars+lps\"\n",
    "image_directory_us = settings.DATA_DIR / \"us_cars+lps\"\n",
    "image_directory_ro = settings.DATA_DIR / \"ro_cars+lps\"\n",
    "\n",
    "# make a list with all the image paths\n",
    "all_image_paths = np.array(\n",
    "    [\n",
    "        *get_image_paths_from_directory(image_directory_eu),\n",
    "        *get_image_paths_from_directory(image_directory_br),\n",
    "        *get_image_paths_from_directory(image_directory_us),\n",
    "        *get_image_paths_from_directory(image_directory_ro),\n",
    "    ]\n",
    ")\n",
    "\n",
    "num_images = len(all_image_paths)\n",
    "\n",
    "print(f\"NUM_IMAGES = {num_images}\")"
   ]
  },
  {
   "cell_type": "markdown",
   "metadata": {},
   "source": [
    "Split the list of all image paths into a list of training paths and a list of test paths:"
   ]
  },
  {
   "cell_type": "code",
   "execution_count": null,
   "metadata": {},
   "outputs": [],
   "source": [
    "TRAINING_SET_SIZE = int(num_images * 0.8)\n",
    "train_indices = np.random.choice(num_images, TRAINING_SET_SIZE, replace=False)\n",
    "\n",
    "image_path_list_train = all_image_paths[train_indices]\n",
    "image_path_list_test = np.delete(all_image_paths, train_indices)"
   ]
  },
  {
   "cell_type": "markdown",
   "metadata": {},
   "source": [
    "Create the training set as well as the test set"
   ]
  },
  {
   "cell_type": "code",
   "execution_count": null,
   "metadata": {},
   "outputs": [],
   "source": [
    "TARGET_IMG_HEIGHT = 448\n",
    "TARGET_IMG_WIDTH = 448\n",
    "BATCH_SIZE = 32\n",
    "\n",
    "dataset_train = make_dataset_from_image_paths(\n",
    "    image_path_list_train,\n",
    "    target_img_height=TARGET_IMG_HEIGHT,\n",
    "    target_img_width=TARGET_IMG_WIDTH,\n",
    ")\n",
    "dataset_train = dataset_train.batch(BATCH_SIZE)\n",
    "\n",
    "dataset_test = make_dataset_from_image_paths(\n",
    "    image_path_list_test,\n",
    "    target_img_height=TARGET_IMG_HEIGHT,\n",
    "    target_img_width=TARGET_IMG_WIDTH,\n",
    ")\n",
    "dataset_test = dataset_test.batch(BATCH_SIZE)"
   ]
  },
  {
   "cell_type": "markdown",
   "metadata": {},
   "source": [
    "Get the model:"
   ]
  },
  {
   "cell_type": "code",
   "execution_count": null,
   "metadata": {},
   "outputs": [],
   "source": [
    "model = models.tiny_yolo_inspired(\n",
    "    input_height=TARGET_IMG_HEIGHT, input_width=TARGET_IMG_WIDTH, num_channels=3\n",
    ")\n",
    "\n",
    "model.summary()"
   ]
  },
  {
   "cell_type": "markdown",
   "metadata": {},
   "source": [
    "Set up the optimizer"
   ]
  },
  {
   "cell_type": "code",
   "execution_count": null,
   "metadata": {},
   "outputs": [],
   "source": [
    "model.compile(optimizer=\"adam\", loss=losses.MSE)"
   ]
  },
  {
   "cell_type": "markdown",
   "metadata": {},
   "source": [
    "Launch TensorBoard:"
   ]
  },
  {
   "cell_type": "code",
   "execution_count": null,
   "metadata": {},
   "outputs": [],
   "source": [
    "%tensorboard --logdir $settings.LOG_DIR"
   ]
  },
  {
   "cell_type": "markdown",
   "metadata": {},
   "source": [
    "Fit the model to the training data:"
   ]
  },
  {
   "cell_type": "code",
   "execution_count": null,
   "metadata": {},
   "outputs": [],
   "source": [
    "# add Tensorboard callback\n",
    "log_dir = settings.LOG_DIR / (\n",
    "    \"training_\" + datetime.datetime.now().strftime(\"%Y-%m-%d_%H-%M-%S\")\n",
    ")\n",
    "tensorboard_callback = tf.keras.callbacks.TensorBoard(\n",
    "    log_dir=log_dir, histogram_freq=1\n",
    ")\n",
    "\n",
    "model.fit(\n",
    "    dataset_train,\n",
    "    epochs=10,\n",
    "    validation_data=dataset_test,\n",
    "    callbacks=[tensorboard_callback],\n",
    ")"
   ]
  },
  {
   "cell_type": "markdown",
   "metadata": {},
   "source": [
    "Show the predictions on the test set"
   ]
  },
  {
   "cell_type": "code",
   "execution_count": null,
   "metadata": {},
   "outputs": [],
   "source": [
    "example_list = list(dataset_test.as_numpy_iterator())\n",
    "\n",
    "for cur_example in example_list:\n",
    "    cur_image_batch = cur_example[0]\n",
    "    cur_prediction_batch = model.predict(cur_image_batch)\n",
    "    \n",
    "    for cur_image, cur_prediction in zip(cur_image_batch, cur_prediction_batch):\n",
    "        print(cur_prediction)\n",
    "        \n",
    "        show_image(\n",
    "            cur_image.astype(int),\n",
    "            bounding_box=bounding_box_in_pixel(\n",
    "                cur_prediction,\n",
    "                img_height=TARGET_IMG_HEIGHT,\n",
    "                img_width=TARGET_IMG_WIDTH,\n",
    "            ),\n",
    "        )"
   ]
  }
 ],
 "metadata": {
  "kernelspec": {
   "display_name": "Python 3",
   "language": "python",
   "name": "python3"
  },
  "language_info": {
   "codemirror_mode": {
    "name": "ipython",
    "version": 3
   },
   "file_extension": ".py",
   "mimetype": "text/x-python",
   "name": "python",
   "nbconvert_exporter": "python",
   "pygments_lexer": "ipython3",
   "version": "3.8.7"
  }
 },
 "nbformat": 4,
 "nbformat_minor": 4
}
